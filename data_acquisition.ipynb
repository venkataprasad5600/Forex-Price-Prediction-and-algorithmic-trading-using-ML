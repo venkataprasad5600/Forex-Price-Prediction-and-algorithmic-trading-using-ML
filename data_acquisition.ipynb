{
 "cells": [
  {
   "cell_type": "code",
   "execution_count": 1,
   "id": "a3b11c14",
   "metadata": {},
   "outputs": [],
   "source": [
    "import pandas as pd\n",
    "import datetime as dt\n",
    "import fxcmpy\n",
    "import psycopg2\n",
    "from sqlalchemy import create_engine, inspect"
   ]
  },
  {
   "cell_type": "markdown",
   "id": "143ea4c1",
   "metadata": {},
   "source": [
    "# Setup the FXCM interface"
   ]
  },
  {
   "cell_type": "code",
   "execution_count": 2,
   "id": "3582123c",
   "metadata": {},
   "outputs": [],
   "source": [
    "api = fxcmpy.fxcmpy(access_token='f7d0ab4f86aafbe56492fef180f0ee8ef5d0ba1e',\n",
    "                    log_level='error',\n",
    "                    server='demo')"
   ]
  },
  {
   "cell_type": "markdown",
   "id": "458487c0",
   "metadata": {},
   "source": [
    "# Getting historical data and creating csv file using PostgreSQL"
   ]
  },
  {
   "cell_type": "code",
   "execution_count": 3,
   "id": "085f116a",
   "metadata": {},
   "outputs": [],
   "source": [
    "engine = create_engine('postgresql://postgres@db:5432/postgres')\n",
    "\n",
    "for i in inspect(engine).get_table_names():\n",
    "    engine.execute(f'DROP TABLE IF EXISTS \"{i}\";')"
   ]
  },
  {
   "cell_type": "code",
   "execution_count": 4,
   "id": "db36c71d",
   "metadata": {
    "scrolled": true
   },
   "outputs": [],
   "source": [
    "def create_csv(instr, engine):\n",
    "    # Getting daily candles from September 1, 2018 to June 21, 2022\n",
    "    p = 'D1'\n",
    "    start = dt.datetime(2018, 9, 1)\n",
    "    end = dt.datetime(2022, 6, 21)\n",
    "    candles_data = api.get_candles(instrument=instr, period=p, start=start, stop=end)\n",
    "    df = pd.DataFrame(candles_data)\n",
    "\n",
    "    # Creating csv file using PostgreSQL\n",
    "    if '/' in instr:\n",
    "        index = instr.find('/')\n",
    "        instr = instr[:index] + instr[index+1:]\n",
    "\n",
    "    df.to_sql(f'{instr}_{p}_{start.year}_{end.year}', engine)\n",
    "\n",
    "    conn = psycopg2.connect(host='db', dbname='postgres', user='postgres')\n",
    "    try:\n",
    "        with conn:\n",
    "            with conn.cursor() as cur:\n",
    "                db_name = inspect(engine).get_table_names()[-1]\n",
    "                cur.execute(f'SELECT date, askclose FROM \"{db_name}\";')\n",
    "                psql_df = pd.DataFrame(cur.fetchall(), columns=['date', 'askclose']).set_index('date')\n",
    "                psql_df.to_csv(f'../data/{db_name}.csv')\n",
    "    finally:\n",
    "        conn.close()"
   ]
  },
  {
   "cell_type": "code",
   "execution_count": 5,
   "id": "d875e68b",
   "metadata": {},
   "outputs": [],
   "source": [
    "create_csv('USDOLLAR', engine)\n",
    "create_csv('EUR/USD', engine)"
   ]
  }
 ],
 "metadata": {
  "kernelspec": {
   "display_name": "Python 3 (ipykernel)",
   "language": "python",
   "name": "python3"
  },
  "language_info": {
   "codemirror_mode": {
    "name": "ipython",
    "version": 3
   },
   "file_extension": ".py",
   "mimetype": "text/x-python",
   "name": "python",
   "nbconvert_exporter": "python",
   "pygments_lexer": "ipython3",
   "version": "3.10.5"
  },
  "vscode": {
   "interpreter": {
    "hash": "31f2aee4e71d21fbe5cf8b01ff0e069b9275f58929596ceb00d14d90e3e16cd6"
   }
  }
 },
 "nbformat": 4,
 "nbformat_minor": 5
}
